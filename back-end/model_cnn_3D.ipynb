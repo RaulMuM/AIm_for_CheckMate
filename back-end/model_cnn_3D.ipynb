{
  "cells": [
    {
      "cell_type": "code",
      "execution_count": 9,
      "metadata": {
        "id": "IXdojpLoVNy8",
        "colab": {
          "base_uri": "https://localhost:8080/"
        },
        "outputId": "c271e9c9-31f4-4394-caa7-84ef0ffc8029"
      },
      "outputs": [
        {
          "output_type": "stream",
          "name": "stdout",
          "text": [
            "Drive already mounted at /content/drive; to attempt to forcibly remount, call drive.mount(\"/content/drive\", force_remount=True).\n"
          ]
        }
      ],
      "source": [
        "import pandas as pd\n",
        "\n",
        "from google.colab import drive\n",
        "drive.mount('/content/drive')"
      ]
    },
    {
      "cell_type": "code",
      "source": [
        "!pip install pandas\n",
        "!apt-get install -y stockfish\n",
        "!pip install python-chess\n",
        "\n",
        "\n",
        "\n",
        "import pandas as pd\n",
        "import os\n",
        "import chess\n",
        "import chess.engine\n",
        "df = pd.read_csv('/content/drive/MyDrive/Saturdays/merged_sequences.csv')\n",
        "filtro = (df['EVAL'] > 200) | (df['EVAL'] < -200)\n",
        "df = df[filtro]\n",
        "df = df[['SEQUENCE', 'Themes']]\n",
        "df[:10]"
      ],
      "metadata": {
        "colab": {
          "base_uri": "https://localhost:8080/",
          "height": 574
        },
        "id": "HVSl2b4-2tMv",
        "outputId": "faa18620-30c4-4d41-b4f5-9d084bc20f26"
      },
      "execution_count": null,
      "outputs": [
        {
          "output_type": "stream",
          "name": "stdout",
          "text": [
            "Looking in indexes: https://pypi.org/simple, https://us-python.pkg.dev/colab-wheels/public/simple/\n",
            "Requirement already satisfied: pandas in /usr/local/lib/python3.10/dist-packages (1.5.3)\n",
            "Requirement already satisfied: python-dateutil>=2.8.1 in /usr/local/lib/python3.10/dist-packages (from pandas) (2.8.2)\n",
            "Requirement already satisfied: pytz>=2020.1 in /usr/local/lib/python3.10/dist-packages (from pandas) (2022.7.1)\n",
            "Requirement already satisfied: numpy>=1.21.0 in /usr/local/lib/python3.10/dist-packages (from pandas) (1.24.3)\n",
            "Requirement already satisfied: six>=1.5 in /usr/local/lib/python3.10/dist-packages (from python-dateutil>=2.8.1->pandas) (1.16.0)\n",
            "Reading package lists... Done\n",
            "Building dependency tree       \n",
            "Reading state information... Done\n",
            "stockfish is already the newest version (11-1build1).\n",
            "0 upgraded, 0 newly installed, 0 to remove and 15 not upgraded.\n",
            "Looking in indexes: https://pypi.org/simple, https://us-python.pkg.dev/colab-wheels/public/simple/\n",
            "Requirement already satisfied: python-chess in /usr/local/lib/python3.10/dist-packages (1.999)\n",
            "Requirement already satisfied: chess<2,>=1 in /usr/local/lib/python3.10/dist-packages (from python-chess) (1.9.4)\n",
            "Drive already mounted at /content/drive; to attempt to forcibly remount, call drive.mount(\"/content/drive\", force_remount=True).\n"
          ]
        },
        {
          "output_type": "error",
          "ename": "TypeError",
          "evalue": "ignored",
          "traceback": [
            "\u001b[0;31m---------------------------------------------------------------------------\u001b[0m",
            "\u001b[0;31mTypeError\u001b[0m                                 Traceback (most recent call last)",
            "\u001b[0;32m<ipython-input-43-419bddf87c6d>\u001b[0m in \u001b[0;36m<cell line: 13>\u001b[0;34m()\u001b[0m\n\u001b[1;32m     11\u001b[0m \u001b[0;32mimport\u001b[0m \u001b[0mchess\u001b[0m\u001b[0;34m.\u001b[0m\u001b[0mengine\u001b[0m\u001b[0;34m\u001b[0m\u001b[0;34m\u001b[0m\u001b[0m\n\u001b[1;32m     12\u001b[0m \u001b[0mdf\u001b[0m \u001b[0;34m=\u001b[0m \u001b[0mpd\u001b[0m\u001b[0;34m.\u001b[0m\u001b[0mread_csv\u001b[0m\u001b[0;34m(\u001b[0m\u001b[0;34m'/content/drive/MyDrive/Saturdays/merged_sequences.csv'\u001b[0m\u001b[0;34m)\u001b[0m\u001b[0;34m\u001b[0m\u001b[0;34m\u001b[0m\u001b[0m\n\u001b[0;32m---> 13\u001b[0;31m \u001b[0mfiltro\u001b[0m \u001b[0;34m=\u001b[0m \u001b[0;34m(\u001b[0m\u001b[0mdf\u001b[0m\u001b[0;34m[\u001b[0m\u001b[0;34m'EVAL'\u001b[0m\u001b[0;34m]\u001b[0m \u001b[0;34m>\u001b[0m \u001b[0;36m200\u001b[0m\u001b[0;34m)\u001b[0m \u001b[0;34m|\u001b[0m \u001b[0;34m(\u001b[0m\u001b[0mdf\u001b[0m\u001b[0;34m[\u001b[0m\u001b[0;34m'EVAL'\u001b[0m\u001b[0;34m]\u001b[0m \u001b[0;34m<\u001b[0m \u001b[0;34m-\u001b[0m\u001b[0;36m200\u001b[0m\u001b[0;34m)\u001b[0m\u001b[0;34m\u001b[0m\u001b[0;34m\u001b[0m\u001b[0m\n\u001b[0m\u001b[1;32m     14\u001b[0m \u001b[0mdf\u001b[0m \u001b[0;34m=\u001b[0m \u001b[0mdf\u001b[0m\u001b[0;34m[\u001b[0m\u001b[0mfiltro\u001b[0m\u001b[0;34m]\u001b[0m\u001b[0;34m\u001b[0m\u001b[0;34m\u001b[0m\u001b[0m\n\u001b[1;32m     15\u001b[0m \u001b[0mdf\u001b[0m \u001b[0;34m=\u001b[0m \u001b[0mdf\u001b[0m\u001b[0;34m[\u001b[0m\u001b[0;34m[\u001b[0m\u001b[0;34m'SEQUENCE'\u001b[0m\u001b[0;34m,\u001b[0m \u001b[0;34m'Themes'\u001b[0m\u001b[0;34m]\u001b[0m\u001b[0;34m]\u001b[0m\u001b[0;34m\u001b[0m\u001b[0;34m\u001b[0m\u001b[0m\n",
            "\u001b[0;32m/usr/local/lib/python3.10/dist-packages/pandas/core/ops/common.py\u001b[0m in \u001b[0;36mnew_method\u001b[0;34m(self, other)\u001b[0m\n\u001b[1;32m     70\u001b[0m         \u001b[0mother\u001b[0m \u001b[0;34m=\u001b[0m \u001b[0mitem_from_zerodim\u001b[0m\u001b[0;34m(\u001b[0m\u001b[0mother\u001b[0m\u001b[0;34m)\u001b[0m\u001b[0;34m\u001b[0m\u001b[0;34m\u001b[0m\u001b[0m\n\u001b[1;32m     71\u001b[0m \u001b[0;34m\u001b[0m\u001b[0m\n\u001b[0;32m---> 72\u001b[0;31m         \u001b[0;32mreturn\u001b[0m \u001b[0mmethod\u001b[0m\u001b[0;34m(\u001b[0m\u001b[0mself\u001b[0m\u001b[0;34m,\u001b[0m \u001b[0mother\u001b[0m\u001b[0;34m)\u001b[0m\u001b[0;34m\u001b[0m\u001b[0;34m\u001b[0m\u001b[0m\n\u001b[0m\u001b[1;32m     73\u001b[0m \u001b[0;34m\u001b[0m\u001b[0m\n\u001b[1;32m     74\u001b[0m     \u001b[0;32mreturn\u001b[0m \u001b[0mnew_method\u001b[0m\u001b[0;34m\u001b[0m\u001b[0;34m\u001b[0m\u001b[0m\n",
            "\u001b[0;32m/usr/local/lib/python3.10/dist-packages/pandas/core/arraylike.py\u001b[0m in \u001b[0;36m__gt__\u001b[0;34m(self, other)\u001b[0m\n\u001b[1;32m     56\u001b[0m     \u001b[0;34m@\u001b[0m\u001b[0munpack_zerodim_and_defer\u001b[0m\u001b[0;34m(\u001b[0m\u001b[0;34m\"__gt__\"\u001b[0m\u001b[0;34m)\u001b[0m\u001b[0;34m\u001b[0m\u001b[0;34m\u001b[0m\u001b[0m\n\u001b[1;32m     57\u001b[0m     \u001b[0;32mdef\u001b[0m \u001b[0m__gt__\u001b[0m\u001b[0;34m(\u001b[0m\u001b[0mself\u001b[0m\u001b[0;34m,\u001b[0m \u001b[0mother\u001b[0m\u001b[0;34m)\u001b[0m\u001b[0;34m:\u001b[0m\u001b[0;34m\u001b[0m\u001b[0;34m\u001b[0m\u001b[0m\n\u001b[0;32m---> 58\u001b[0;31m         \u001b[0;32mreturn\u001b[0m \u001b[0mself\u001b[0m\u001b[0;34m.\u001b[0m\u001b[0m_cmp_method\u001b[0m\u001b[0;34m(\u001b[0m\u001b[0mother\u001b[0m\u001b[0;34m,\u001b[0m \u001b[0moperator\u001b[0m\u001b[0;34m.\u001b[0m\u001b[0mgt\u001b[0m\u001b[0;34m)\u001b[0m\u001b[0;34m\u001b[0m\u001b[0;34m\u001b[0m\u001b[0m\n\u001b[0m\u001b[1;32m     59\u001b[0m \u001b[0;34m\u001b[0m\u001b[0m\n\u001b[1;32m     60\u001b[0m     \u001b[0;34m@\u001b[0m\u001b[0munpack_zerodim_and_defer\u001b[0m\u001b[0;34m(\u001b[0m\u001b[0;34m\"__ge__\"\u001b[0m\u001b[0;34m)\u001b[0m\u001b[0;34m\u001b[0m\u001b[0;34m\u001b[0m\u001b[0m\n",
            "\u001b[0;32m/usr/local/lib/python3.10/dist-packages/pandas/core/series.py\u001b[0m in \u001b[0;36m_cmp_method\u001b[0;34m(self, other, op)\u001b[0m\n\u001b[1;32m   6241\u001b[0m \u001b[0;34m\u001b[0m\u001b[0m\n\u001b[1;32m   6242\u001b[0m         \u001b[0;32mwith\u001b[0m \u001b[0mnp\u001b[0m\u001b[0;34m.\u001b[0m\u001b[0merrstate\u001b[0m\u001b[0;34m(\u001b[0m\u001b[0mall\u001b[0m\u001b[0;34m=\u001b[0m\u001b[0;34m\"ignore\"\u001b[0m\u001b[0;34m)\u001b[0m\u001b[0;34m:\u001b[0m\u001b[0;34m\u001b[0m\u001b[0;34m\u001b[0m\u001b[0m\n\u001b[0;32m-> 6243\u001b[0;31m             \u001b[0mres_values\u001b[0m \u001b[0;34m=\u001b[0m \u001b[0mops\u001b[0m\u001b[0;34m.\u001b[0m\u001b[0mcomparison_op\u001b[0m\u001b[0;34m(\u001b[0m\u001b[0mlvalues\u001b[0m\u001b[0;34m,\u001b[0m \u001b[0mrvalues\u001b[0m\u001b[0;34m,\u001b[0m \u001b[0mop\u001b[0m\u001b[0;34m)\u001b[0m\u001b[0;34m\u001b[0m\u001b[0;34m\u001b[0m\u001b[0m\n\u001b[0m\u001b[1;32m   6244\u001b[0m \u001b[0;34m\u001b[0m\u001b[0m\n\u001b[1;32m   6245\u001b[0m         \u001b[0;32mreturn\u001b[0m \u001b[0mself\u001b[0m\u001b[0;34m.\u001b[0m\u001b[0m_construct_result\u001b[0m\u001b[0;34m(\u001b[0m\u001b[0mres_values\u001b[0m\u001b[0;34m,\u001b[0m \u001b[0mname\u001b[0m\u001b[0;34m=\u001b[0m\u001b[0mres_name\u001b[0m\u001b[0;34m)\u001b[0m\u001b[0;34m\u001b[0m\u001b[0;34m\u001b[0m\u001b[0m\n",
            "\u001b[0;32m/usr/local/lib/python3.10/dist-packages/pandas/core/ops/array_ops.py\u001b[0m in \u001b[0;36mcomparison_op\u001b[0;34m(left, right, op)\u001b[0m\n\u001b[1;32m    285\u001b[0m \u001b[0;34m\u001b[0m\u001b[0m\n\u001b[1;32m    286\u001b[0m     \u001b[0;32melif\u001b[0m \u001b[0mis_object_dtype\u001b[0m\u001b[0;34m(\u001b[0m\u001b[0mlvalues\u001b[0m\u001b[0;34m.\u001b[0m\u001b[0mdtype\u001b[0m\u001b[0;34m)\u001b[0m \u001b[0;32mor\u001b[0m \u001b[0misinstance\u001b[0m\u001b[0;34m(\u001b[0m\u001b[0mrvalues\u001b[0m\u001b[0;34m,\u001b[0m \u001b[0mstr\u001b[0m\u001b[0;34m)\u001b[0m\u001b[0;34m:\u001b[0m\u001b[0;34m\u001b[0m\u001b[0;34m\u001b[0m\u001b[0m\n\u001b[0;32m--> 287\u001b[0;31m         \u001b[0mres_values\u001b[0m \u001b[0;34m=\u001b[0m \u001b[0mcomp_method_OBJECT_ARRAY\u001b[0m\u001b[0;34m(\u001b[0m\u001b[0mop\u001b[0m\u001b[0;34m,\u001b[0m \u001b[0mlvalues\u001b[0m\u001b[0;34m,\u001b[0m \u001b[0mrvalues\u001b[0m\u001b[0;34m)\u001b[0m\u001b[0;34m\u001b[0m\u001b[0;34m\u001b[0m\u001b[0m\n\u001b[0m\u001b[1;32m    288\u001b[0m \u001b[0;34m\u001b[0m\u001b[0m\n\u001b[1;32m    289\u001b[0m     \u001b[0;32melse\u001b[0m\u001b[0;34m:\u001b[0m\u001b[0;34m\u001b[0m\u001b[0;34m\u001b[0m\u001b[0m\n",
            "\u001b[0;32m/usr/local/lib/python3.10/dist-packages/pandas/core/ops/array_ops.py\u001b[0m in \u001b[0;36mcomp_method_OBJECT_ARRAY\u001b[0;34m(op, x, y)\u001b[0m\n\u001b[1;32m     73\u001b[0m         \u001b[0mresult\u001b[0m \u001b[0;34m=\u001b[0m \u001b[0mlibops\u001b[0m\u001b[0;34m.\u001b[0m\u001b[0mvec_compare\u001b[0m\u001b[0;34m(\u001b[0m\u001b[0mx\u001b[0m\u001b[0;34m.\u001b[0m\u001b[0mravel\u001b[0m\u001b[0;34m(\u001b[0m\u001b[0;34m)\u001b[0m\u001b[0;34m,\u001b[0m \u001b[0my\u001b[0m\u001b[0;34m.\u001b[0m\u001b[0mravel\u001b[0m\u001b[0;34m(\u001b[0m\u001b[0;34m)\u001b[0m\u001b[0;34m,\u001b[0m \u001b[0mop\u001b[0m\u001b[0;34m)\u001b[0m\u001b[0;34m\u001b[0m\u001b[0;34m\u001b[0m\u001b[0m\n\u001b[1;32m     74\u001b[0m     \u001b[0;32melse\u001b[0m\u001b[0;34m:\u001b[0m\u001b[0;34m\u001b[0m\u001b[0;34m\u001b[0m\u001b[0m\n\u001b[0;32m---> 75\u001b[0;31m         \u001b[0mresult\u001b[0m \u001b[0;34m=\u001b[0m \u001b[0mlibops\u001b[0m\u001b[0;34m.\u001b[0m\u001b[0mscalar_compare\u001b[0m\u001b[0;34m(\u001b[0m\u001b[0mx\u001b[0m\u001b[0;34m.\u001b[0m\u001b[0mravel\u001b[0m\u001b[0;34m(\u001b[0m\u001b[0;34m)\u001b[0m\u001b[0;34m,\u001b[0m \u001b[0my\u001b[0m\u001b[0;34m,\u001b[0m \u001b[0mop\u001b[0m\u001b[0;34m)\u001b[0m\u001b[0;34m\u001b[0m\u001b[0;34m\u001b[0m\u001b[0m\n\u001b[0m\u001b[1;32m     76\u001b[0m     \u001b[0;32mreturn\u001b[0m \u001b[0mresult\u001b[0m\u001b[0;34m.\u001b[0m\u001b[0mreshape\u001b[0m\u001b[0;34m(\u001b[0m\u001b[0mx\u001b[0m\u001b[0;34m.\u001b[0m\u001b[0mshape\u001b[0m\u001b[0;34m)\u001b[0m\u001b[0;34m\u001b[0m\u001b[0;34m\u001b[0m\u001b[0m\n\u001b[1;32m     77\u001b[0m \u001b[0;34m\u001b[0m\u001b[0m\n",
            "\u001b[0;32m/usr/local/lib/python3.10/dist-packages/pandas/_libs/ops.pyx\u001b[0m in \u001b[0;36mpandas._libs.ops.scalar_compare\u001b[0;34m()\u001b[0m\n",
            "\u001b[0;31mTypeError\u001b[0m: '>' not supported between instances of 'str' and 'int'"
          ]
        }
      ]
    },
    {
      "cell_type": "code",
      "source": [
        "#def load_and_process_data(filepath):\n",
        "#    df = pd.read_csv(filepath)\n",
        "#\n",
        "#    # Transform the 'SEQUENCE' column into arrays of FENs\n",
        "#    df['SEQUENCE'] = df['SEQUENCE'].apply(lambda x: [' '.join(x.split()[i:i+6]) for i in range(0, len(x.split()), 6)])\n",
        "#\n",
        "#    # Transform the 'Themes' column into arrays of themes\n",
        "#    df['Themes'] = df['Themes'].apply(lambda x: x.split())\n",
        "#\n",
        "#    return df\n",
        "#\n",
        "#df = load_and_process_data('/content/drive/MyDrive/Saturdays/merged_sequences.csv')\n",
        "\n",
        "import re\n",
        "\n",
        "def load_and_process_data(filepath):\n",
        "    df = pd.read_csv(filepath)\n",
        "    df['EVAL'] = df['EVAL'].replace('None', '5000')\n",
        "    df['EVAL'] = df['EVAL'].astype(int)\n",
        "    df[:30]\n",
        "\n",
        "    filtro = (df['EVAL'] > 200) | (df['EVAL'] < -200)\n",
        "    df = df[filtro]\n",
        "    print(df)\n",
        "\n",
        "    # Keep only the needed columns\n",
        "    df = df[['SEQUENCE', 'Themes']]\n",
        "\n",
        "    # Use a regular expression to split the 'SEQUENCE' column into arrays of FENs\n",
        "    df['SEQUENCE'] = df['SEQUENCE'].apply(lambda x: re.findall(r'(\\S+ \\S+ \\S+ \\S+ \\S+ \\S+)', x))\n",
        "\n",
        "    #e a lista\n",
        "Estructura  Transform the 'Themes' column into arrays of themes\n",
        "    df['Themes'] = df['Themes'].apply(lambda x: x.split())\n",
        "\n",
        "    return df\n",
        "\n",
        "df = load_and_process_data('/content/drive/MyDrive/Saturdays/merged_sequences.csv')"
      ],
      "metadata": {
        "colab": {
          "base_uri": "https://localhost:8080/"
        },
        "id": "VTfFbc-K4UeY",
        "outputId": "1fb28bd9-1dc0-4334-e4fa-8453c8f11fb5"
      },
      "execution_count": 10,
      "outputs": [
        {
          "output_type": "stream",
          "name": "stdout",
          "text": [
            "        Unnamed: 0                                           SEQUENCE  EVAL  \\\n",
            "0                0  r6k/pp2r2p/4Rp1Q/3p4/8/1N1P2R1/PqP2bPP/7K b - ...   392   \n",
            "2                2  r2qr1k1/b1p2ppp/pp4n1/P1P1p3/4P1n1/B2P2Pb/3NBP...   294   \n",
            "6                6  r1bqk2r/pp1nbNp1/2p1p2p/8/2BP4/1PN3P1/P3QP1P/3...  -859   \n",
            "8                8  3R4/8/K7/pB2b3/1p6/1P2k3/3p4/8 w - - 4 58 8/8/...   679   \n",
            "10              10  r6k/pp2r2p/4Rp1Q/3p4/8/1N1P2R1/PqP2bPP/7K b - ...   392   \n",
            "...            ...                                                ...   ...   \n",
            "631270     1099992  2kr1q1r/ppp5/2np1n1p/3Np1p1/4P3/6B1/PP3PPP/R2Q...   277   \n",
            "631272     1099994  4Q3/6pk/3P3p/p7/2Q1Nr2/2P5/6PP/1q4K1 w - - 1 3...  5000   \n",
            "631274     1099996  r4rk1/pbp1qp2/1p4p1/4p1N1/3nP1P1/4Q3/PP1N1P2/1...   808   \n",
            "631275     1099997  1r1b1k2/1b3p2/4p1p1/4P3/1PpPNPPq/2P5/R2N2Q1/2K...   410   \n",
            "631277     1099999  r6k/3b4/pp2p1B1/1P6/K1P2b2/2qp4/P5P1/R6Q b - -...  5000   \n",
            "\n",
            "                                 Themes  \n",
            "0          hangingPiece long middlegame  \n",
            "2            advantage middlegame short  \n",
            "6                 middlegame short mate  \n",
            "8                    endgame fork short  \n",
            "10         hangingPiece long middlegame  \n",
            "...                                 ...  \n",
            "631270  advantage fork middlegame short  \n",
            "631272             endgame oneMove mate  \n",
            "631274   long middlegame quietMove mate  \n",
            "631275                 middlegame short  \n",
            "631277       fork middlegame short mate  \n",
            "\n",
            "[280012 rows x 4 columns]\n"
          ]
        }
      ]
    },
    {
      "cell_type": "code",
      "source": [
        "print(df)"
      ],
      "metadata": {
        "colab": {
          "base_uri": "https://localhost:8080/"
        },
        "id": "JN6p_Tzy4iFp",
        "outputId": "287bb2c8-c087-4e8d-996c-19ee26304b8d"
      },
      "execution_count": 11,
      "outputs": [
        {
          "output_type": "stream",
          "name": "stdout",
          "text": [
            "                                                 SEQUENCE  \\\n",
            "0       [r6k/pp2r2p/4Rp1Q/3p4/8/1N1P2R1/PqP2bPP/7K b -...   \n",
            "2       [r2qr1k1/b1p2ppp/pp4n1/P1P1p3/4P1n1/B2P2Pb/3NB...   \n",
            "6       [r1bqk2r/pp1nbNp1/2p1p2p/8/2BP4/1PN3P1/P3QP1P/...   \n",
            "8       [3R4/8/K7/pB2b3/1p6/1P2k3/3p4/8 w - - 4 58, 8/...   \n",
            "10      [r6k/pp2r2p/4Rp1Q/3p4/8/1N1P2R1/PqP2bPP/7K b -...   \n",
            "...                                                   ...   \n",
            "631270  [2kr1q1r/ppp5/2np1n1p/3Np1p1/4P3/6B1/PP3PPP/R2...   \n",
            "631272  [4Q3/6pk/3P3p/p7/2Q1Nr2/2P5/6PP/1q4K1 w - - 1 ...   \n",
            "631274  [r4rk1/pbp1qp2/1p4p1/4p1N1/3nP1P1/4Q3/PP1N1P2/...   \n",
            "631275  [1r1b1k2/1b3p2/4p1p1/4P3/1PpPNPPq/2P5/R2N2Q1/2...   \n",
            "631277  [r6k/3b4/pp2p1B1/1P6/K1P2b2/2qp4/P5P1/R6Q b - ...   \n",
            "\n",
            "                                      Themes  \n",
            "0           [hangingPiece, long, middlegame]  \n",
            "2             [advantage, middlegame, short]  \n",
            "6                  [middlegame, short, mate]  \n",
            "8                     [endgame, fork, short]  \n",
            "10          [hangingPiece, long, middlegame]  \n",
            "...                                      ...  \n",
            "631270  [advantage, fork, middlegame, short]  \n",
            "631272              [endgame, oneMove, mate]  \n",
            "631274   [long, middlegame, quietMove, mate]  \n",
            "631275                   [middlegame, short]  \n",
            "631277       [fork, middlegame, short, mate]  \n",
            "\n",
            "[280012 rows x 2 columns]\n"
          ]
        }
      ]
    },
    {
      "cell_type": "code",
      "execution_count": 12,
      "metadata": {
        "colab": {
          "base_uri": "https://localhost:8080/"
        },
        "id": "YT--ZjgFYkWX",
        "outputId": "6a625c53-6ace-47e5-b085-cbeed8fc7639"
      },
      "outputs": [
        {
          "output_type": "stream",
          "name": "stdout",
          "text": [
            "Index(['SEQUENCE', 'Themes'], dtype='object')\n"
          ]
        }
      ],
      "source": [
        "print(df.columns)"
      ]
    },
    {
      "cell_type": "code",
      "execution_count": 13,
      "metadata": {
        "id": "EF_r8645v27o"
      },
      "outputs": [],
      "source": [
        "import numpy as np\n",
        "\n",
        "#All themes. If themes deleted or merged, process_themes and process_fen must be adapted\n",
        "all_themes = [\n",
        "    'advantage', 'hangingPiece', 'bodenMate', 'clearance', 'endgame', 'opening', 'defensiveMove',\n",
        "    'oneMove', 'attackingF2F7', 'enPassant', 'kingsideAttack', 'castling', 'pawnEndgame', 'deflection', 'arabianMate',\n",
        "    'interference', 'queenRookEndgame', 'mateIn5', 'smotheredMate', 'exposedKing', 'crushing', 'dovetailMate', 'hookMate',\n",
        "    'knightEndgame', 'mateIn1', 'promotion', 'pin', 'masterVsMaster', 'backRankMate', 'attraction', 'equality',\n",
        "    'veryLong', 'queensideAttack', 'bishopEndgame', 'middlegame', 'underPromotion', 'doubleCheck', 'queenEndgame', 'rookEndgame',\n",
        "    'skewer', 'capturingDefender', 'superGM', 'zugzwang', 'long', 'anastasiaMate', 'intermezzo', 'short',\n",
        "    'mateIn2', 'xRayAttack', 'discoveredAttack', 'master', 'mateIn3', 'mateIn4', 'mate', 'trappedPiece',\n",
        "    'doubleBishopMate', 'fork', 'advancedPawn', 'quietMove', 'sacrifice']\n",
        "\n",
        "# Mapping for pieces\n",
        "piece_mapping = {'p':1, 'n':2, 'b':3, 'r':4, 'q':5, 'k':6, ' ':7,\n",
        "                 'P':8, 'N':9, 'B':10,'R':11,'Q':12,'K':13}\n",
        "\n",
        "# Mapping for en passant\n",
        "square_mapping = {\n",
        "    '-':0,\n",
        "    'a8': 1, 'b8': 2, 'c8': 3, 'd8': 4, 'e8': 5, 'f8': 6, 'g8': 7, 'h8': 8,\n",
        "    'a7': 9, 'b7': 10, 'c7': 11, 'd7': 12, 'e7': 13, 'f7': 14, 'g7': 15, 'h7': 16,\n",
        "    'a6': 17, 'b6': 18, 'c6': 19, 'd6': 20, 'e6': 21, 'f6': 22, 'g6': 23, 'h6': 24,\n",
        "    'a5': 25, 'b5': 26, 'c5': 27, 'd5': 28, 'e5': 29, 'f5': 30, 'g5': 31, 'h5': 32,\n",
        "    'a4': 33, 'b4': 34, 'c4': 35, 'd4': 36, 'e4': 37, 'f4': 38, 'g4': 39, 'h4': 40,\n",
        "    'a3': 41, 'b3': 42, 'c3': 43, 'd3': 44, 'e3': 45, 'f3': 46, 'g3': 47, 'h3': 48,\n",
        "    'a2': 49, 'b2': 50, 'c2': 51, 'd2': 52, 'e2': 53, 'f2': 54, 'g2': 55, 'h2': 56,\n",
        "    'a1': 57, 'b1': 58, 'c1': 59, 'd1': 60, 'e1': 61, 'f1': 62, 'g1': 63, 'h1': 64\n",
        "}\n",
        "\n",
        "def process_fen(fen_string):\n",
        "    # Splitting FEN string into parts\n",
        "    board, turn, castling, en_passant, _ , _ = fen_string.split()\n",
        "\n",
        "    # Transforming board\n",
        "    board = board.replace(\"/\", \"\")  # removing slash\n",
        "    for digit in \"12345678\":\n",
        "        board = board.replace(digit, \" \" * int(digit))  # replace numbers with spaces\n",
        "    board_values = [piece_mapping[piece] for piece in board]  # map pieces to numbers\n",
        "\n",
        "    # Transforming metadata\n",
        "    metadata = [1 if turn == 'b' else 0]\n",
        "    metadata.extend([1 if c in castling else 0 for c in 'KQkq'])\n",
        "    # Handle the case when there's no valid en passant target square\n",
        "    metadata.append(square_mapping[en_passant] if en_passant in square_mapping else 0)\n",
        "    metadata.extend([0, 0])  # two empty squares as per the requirement\n",
        "\n",
        "    # Adding the board and metadata together\n",
        "    fen_matrix = np.array(board_values + metadata).reshape((9, 8))\n",
        "\n",
        "    return fen_matrix\n",
        "\n",
        "#Generate the embedding vector for the themes\n",
        "def process_themes(themes_string):\n",
        "    return [1 if theme in themes_string else 0 for theme in all_themes]\n",
        "\n",
        "#Transform FEN to 9x8 array where 1x8 is for metadata like castling, turn and en passant\n",
        "def process_df_row(row):\n",
        "    fen_matrix = process_fen(row['FEN'])\n",
        "    themes = np.array(process_themes(row['Themes']))\n",
        "    return fen_matrix, themes\n",
        "\n",
        "#Process df and generate X and Y up to n rows\n",
        "def generate_X_Y(df, n):\n",
        "    # Apply processing functions to the first `n` rows of the dataframe\n",
        "    results = df.iloc[:n].apply(process_df_row, axis=1)\n",
        "\n",
        "    # Stack the resulting numpy arrays into a 3D array for X and a 2D array for Y\n",
        "    X = np.stack(results.apply(lambda x: x[0]))\n",
        "    Y = np.stack(results.apply(lambda x: x[1]))\n",
        "\n",
        "    return X, Y\n",
        "\n",
        "def process_fen_sequence(fen_sequence):\n",
        "    # Check if the sequence is a string and split into individual FENs\n",
        "    if isinstance(fen_sequence, str):\n",
        "        fens = fen_sequence.split()\n",
        "    # If it's a list, we can directly work with it\n",
        "    elif isinstance(fen_sequence, list):\n",
        "        fens = fen_sequence\n",
        "\n",
        "    # Process each FEN individually\n",
        "    processed_fens = [process_fen(fen) for fen in fens]\n",
        "\n",
        "    # Pad the sequence if it's shorter than 10\n",
        "    while len(processed_fens) < 10:\n",
        "        processed_fens.append(processed_fens[-1])\n",
        "\n",
        "    # Stack the processed FENs into a single array\n",
        "    return np.stack(processed_fens)\n",
        "\n",
        "\n",
        "def generate_X_Y_sequence(df, n):\n",
        "    # Process the FEN sequences and theme sequences for the first `n` rows\n",
        "    X_sequence = [process_fen_sequence(row['SEQUENCE']) for _, row in df.iloc[:n].iterrows()]\n",
        "    Y_sequence = [process_themes(row['Themes']) for _, row in df.iloc[:n].iterrows()]\n",
        "\n",
        "    # Stack the resulting arrays into a 3D array for X and a 2D array for Y\n",
        "    X = np.stack(X_sequence)\n",
        "    Y = np.stack(Y_sequence)\n",
        "\n",
        "    return X, Y\n"
      ]
    },
    {
      "cell_type": "code",
      "execution_count": 17,
      "metadata": {
        "id": "cvhzx6m__iCt"
      },
      "outputs": [],
      "source": [
        "X, Y = generate_X_Y_sequence(df,  131071)"
      ]
    },
    {
      "cell_type": "code",
      "source": [
        "X.shape"
      ],
      "metadata": {
        "colab": {
          "base_uri": "https://localhost:8080/"
        },
        "id": "prrjymNIhWI3",
        "outputId": "f985cba7-b742-452c-a5b4-19d95f95c15a"
      },
      "execution_count": 18,
      "outputs": [
        {
          "output_type": "execute_result",
          "data": {
            "text/plain": [
              "(131071, 10, 9, 8)"
            ]
          },
          "metadata": {},
          "execution_count": 18
        }
      ]
    },
    {
      "cell_type": "code",
      "source": [
        "from tensorflow.keras.models import Sequential\n",
        "from tensorflow.keras.layers import Conv3D, Flatten, Dense, Dropout\n",
        "\n",
        "# Define the shape of the inputs\n",
        "input_shape = (10, 9, 8, 1)  # 10 boards, each 9x8, and 1 for grayscale\n",
        "\n",
        "# Define the number of themes to predict\n",
        "num_themes = len(all_themes)  # Adjust according to your needs\n",
        "\n",
        "# Initialize the model\n",
        "model = Sequential()\n",
        "\n",
        "# Add some 3D convolutional layers\n",
        "model.add(Conv3D(32, kernel_size=(3, 3, 3), activation='relu', padding='same', input_shape=input_shape))\n",
        "model.add(Conv3D(64, kernel_size=(3, 3, 3), activation='relu', padding='same'))\n",
        "\n",
        "# Flatten the output from the convolutional layers so it can be fed into the dense layers\n",
        "model.add(Flatten())\n",
        "\n",
        "# Add some dense layers\n",
        "model.add(Dense(128, activation='relu'))\n",
        "model.add(Dropout(0.5))\n",
        "model.add(Dense(64, activation='relu'))\n",
        "\n",
        "# Add the output layer\n",
        "# We use sigmoid activation function for multi-label classification\n",
        "model.add(Dense(num_themes, activation='sigmoid'))\n",
        "\n",
        "# Compile the model\n",
        "model.compile(loss='binary_crossentropy', optimizer='adam', metrics=['binary_accuracy'])\n",
        "\n",
        "# Print a summary of the model\n",
        "model.summary()"
      ],
      "metadata": {
        "colab": {
          "base_uri": "https://localhost:8080/"
        },
        "id": "XvLjYiKD88Vm",
        "outputId": "7e8806f7-9ec6-43b7-8581-bf01e6df166f"
      },
      "execution_count": null,
      "outputs": [
        {
          "output_type": "stream",
          "name": "stdout",
          "text": [
            "Model: \"sequential_2\"\n",
            "_________________________________________________________________\n",
            " Layer (type)                Output Shape              Param #   \n",
            "=================================================================\n",
            " conv3d_4 (Conv3D)           (None, 10, 9, 8, 32)      896       \n",
            "                                                                 \n",
            " conv3d_5 (Conv3D)           (None, 10, 9, 8, 64)      55360     \n",
            "                                                                 \n",
            " flatten_2 (Flatten)         (None, 46080)             0         \n",
            "                                                                 \n",
            " dense_6 (Dense)             (None, 128)               5898368   \n",
            "                                                                 \n",
            " dropout_2 (Dropout)         (None, 128)               0         \n",
            "                                                                 \n",
            " dense_7 (Dense)             (None, 64)                8256      \n",
            "                                                                 \n",
            " dense_8 (Dense)             (None, 60)                3900      \n",
            "                                                                 \n",
            "=================================================================\n",
            "Total params: 5,966,780\n",
            "Trainable params: 5,966,780\n",
            "Non-trainable params: 0\n",
            "_________________________________________________________________\n"
          ]
        }
      ]
    },
    {
      "cell_type": "code",
      "source": [
        "from sklearn.model_selection import train_test_split\n",
        "\n",
        "# First, generate X and Y\n",
        "train_X, train_Y = generate_X_Y_sequence(df, n=131071)\n",
        "#train_X, train_Y = generate_X_Y_sequence(df, n=1024)\n",
        "\n",
        "# Reshape the data to fit the 3D CNN model\n",
        "train_X = train_X.reshape(-1, 10, 9, 8, 1)\n",
        "\n",
        "# Split the data into train and test sets\n",
        "X_temp, X_test, Y_temp, Y_test = train_test_split(train_X, train_Y, test_size=0.2, random_state=42)\n",
        "\n",
        "# Split the temporary set into train and validation sets\n",
        "X_train, X_val, Y_train, Y_val = train_test_split(X_temp, Y_temp, test_size=0.25, random_state=42) # 0.25 x 0.8 = 0.2\n",
        "\n",
        "# Larger batch size\n",
        "batch_size = 256\n",
        "\n",
        "from tensorflow.keras.callbacks import ModelCheckpoint\n",
        "\n",
        "# Create a ModelCheckpoint callback\n",
        "checkpoint = ModelCheckpoint('/content/drive/MyDrive/Saturdays/Model/model_tr1_{epoch:02d}_{val_binary_accuracy:.2f}.h5',\n",
        "                             save_freq='epoch', period=2)\n",
        "\n",
        "# Train the model and record the training history\n",
        "history = model.fit(X_train, Y_train,\n",
        "                    validation_data=(X_val, Y_val),\n",
        "                    epochs=256,  # Just to make sure we save at least two models\n",
        "                    batch_size=batch_size,\n",
        "                    verbose=1,\n",
        "                    callbacks=[checkpoint])\n",
        "\n",
        "# Making predictions\n",
        "pred_Y = model.predict(X_val)\n",
        "\n",
        "# Converting probabilities to labels\n",
        "pred_Y_labels = (pred_Y > 0.5).astype(int)\n",
        "\n",
        "# Printing the first 2 examples\n",
        "for i in range(2):\n",
        "    print(f\"Example {i+1}:\")\n",
        "    print(\"Expected output:\")\n",
        "    print(Y_val[i])\n",
        "    print(\"Obtained output:\")\n",
        "    print(pred_Y_labels[i])\n",
        "    print(\"\\n\")\n"
      ],
      "metadata": {
        "colab": {
          "base_uri": "https://localhost:8080/"
        },
        "id": "y3nljKu6-Dg1",
        "outputId": "7ccbe0c9-7700-4078-8482-ddd4a608ae5f"
      },
      "execution_count": null,
      "outputs": [
        {
          "metadata": {
            "tags": null
          },
          "name": "stderr",
          "output_type": "stream",
          "text": [
            "WARNING:tensorflow:`period` argument is deprecated. Please use `save_freq` to specify the frequency in number of batches seen.\n"
          ]
        },
        {
          "output_type": "stream",
          "name": "stdout",
          "text": [
            "Epoch 1/256\n",
            "308/308 [==============================] - 962s 3s/step - loss: 0.1937 - binary_accuracy: 0.9250 - val_loss: 0.1348 - val_binary_accuracy: 0.9512\n",
            "Epoch 2/256\n",
            "308/308 [==============================] - 957s 3s/step - loss: 0.1395 - binary_accuracy: 0.9496 - val_loss: 0.1404 - val_binary_accuracy: 0.9518\n",
            "Epoch 3/256\n",
            "308/308 [==============================] - 951s 3s/step - loss: 0.1337 - binary_accuracy: 0.9509 - val_loss: 0.1444 - val_binary_accuracy: 0.9520\n",
            "Epoch 4/256\n",
            "308/308 [==============================] - 956s 3s/step - loss: 0.1304 - binary_accuracy: 0.9517 - val_loss: 0.1439 - val_binary_accuracy: 0.9522\n",
            "Epoch 5/256\n",
            "308/308 [==============================] - 947s 3s/step - loss: 0.1278 - binary_accuracy: 0.9524 - val_loss: 0.1384 - val_binary_accuracy: 0.9538\n",
            "Epoch 6/256\n",
            "308/308 [==============================] - 946s 3s/step - loss: 0.1260 - binary_accuracy: 0.9531 - val_loss: 0.1355 - val_binary_accuracy: 0.9542\n",
            "Epoch 7/256\n",
            "308/308 [==============================] - 949s 3s/step - loss: 0.1245 - binary_accuracy: 0.9537 - val_loss: 0.1320 - val_binary_accuracy: 0.9545\n",
            "Epoch 8/256\n",
            "308/308 [==============================] - 950s 3s/step - loss: 0.1232 - binary_accuracy: 0.9540 - val_loss: 0.1289 - val_binary_accuracy: 0.9549\n",
            "Epoch 9/256\n",
            "308/308 [==============================] - 944s 3s/step - loss: 0.1222 - binary_accuracy: 0.9545 - val_loss: 0.1266 - val_binary_accuracy: 0.9550\n",
            "Epoch 10/256\n",
            "308/308 [==============================] - 947s 3s/step - loss: 0.1212 - binary_accuracy: 0.9548 - val_loss: 0.1300 - val_binary_accuracy: 0.9532\n",
            "Epoch 11/256\n",
            "308/308 [==============================] - 943s 3s/step - loss: 0.1202 - binary_accuracy: 0.9552 - val_loss: 0.1264 - val_binary_accuracy: 0.9554\n",
            "Epoch 12/256\n",
            "308/308 [==============================] - 945s 3s/step - loss: 0.1192 - binary_accuracy: 0.9556 - val_loss: 0.1274 - val_binary_accuracy: 0.9542\n",
            "Epoch 13/256\n",
            "308/308 [==============================] - 933s 3s/step - loss: 0.1187 - binary_accuracy: 0.9558 - val_loss: 0.1253 - val_binary_accuracy: 0.9556\n",
            "Epoch 14/256\n",
            "308/308 [==============================] - 924s 3s/step - loss: 0.1177 - binary_accuracy: 0.9562 - val_loss: 0.1241 - val_binary_accuracy: 0.9555\n",
            "Epoch 15/256\n",
            "308/308 [==============================] - 929s 3s/step - loss: 0.1170 - binary_accuracy: 0.9565 - val_loss: 0.1233 - val_binary_accuracy: 0.9558\n",
            "Epoch 16/256\n",
            "308/308 [==============================] - 932s 3s/step - loss: 0.1160 - binary_accuracy: 0.9569 - val_loss: 0.1238 - val_binary_accuracy: 0.9554\n",
            "Epoch 17/256\n",
            "308/308 [==============================] - 930s 3s/step - loss: 0.1153 - binary_accuracy: 0.9572 - val_loss: 0.1232 - val_binary_accuracy: 0.9558\n",
            "Epoch 18/256\n",
            "124/308 [===========>..................] - ETA: 8:29 - loss: 0.1138 - binary_accuracy: 0.9578"
          ]
        }
      ]
    },
    {
      "cell_type": "code",
      "source": [
        "# Making predictions\n",
        "\n",
        "x_finalchk, y_finalchk = generate_X_Y_sequence(df, 4)\n",
        "x_finalchk = x_finalchk.reshape(-1, 10, 9, 8, 1)\n",
        "pred_Y = model.predict(x_finalchk)\n",
        "\n",
        "# Converting probabilities to labels\n",
        "pred_Y_labels = (pred_Y > 0.5).astype(int)\n",
        "\n",
        "# Printing the first 2 examples\n",
        "for i in range(2):\n",
        "    print(f\"Example {i+1}:\")\n",
        "    print(\"Expected output:\")\n",
        "    print(y_finalchk[i])\n",
        "    print(\"Obtained output:\")\n",
        "    print(pred_Y_labels[i])\n",
        "    print(\"\\n\")\n",
        "\n"
      ],
      "metadata": {
        "colab": {
          "base_uri": "https://localhost:8080/"
        },
        "id": "Lo9Ej68cDApN",
        "outputId": "38e1440d-20b5-403d-989d-4f94c56a9fbb"
      },
      "execution_count": null,
      "outputs": [
        {
          "output_type": "stream",
          "name": "stdout",
          "text": [
            "1/1 [==============================] - 0s 41ms/step\n",
            "Example 1:\n",
            "Expected output:\n",
            "[0 1 0 0 0 0 0 0 0 0 0 0 0 0 0 0 0 0 0 0 0 0 0 0 0 0 0 0 0 0 0 0 0 0 1 0 0\n",
            " 0 0 0 0 0 0 1 0 0 0 0 0 0 0 0 0 0 0 0 0 0 0 0]\n",
            "Obtained output:\n",
            "[0 0 0 0 0 0 0 0 0 0 0 0 0 0 0 0 0 0 0 0 0 0 0 0 0 0 0 0 0 0 0 0 0 0 1 0 0\n",
            " 0 0 0 0 0 0 0 0 0 1 0 0 0 0 0 0 0 0 0 0 0 0 0]\n",
            "\n",
            "\n",
            "Example 2:\n",
            "Expected output:\n",
            "[1 0 0 0 1 0 0 0 0 0 0 0 0 0 0 0 0 0 0 0 0 0 0 0 0 0 0 0 0 0 0 0 0 0 0 0 0\n",
            " 0 0 0 0 0 0 0 0 0 1 0 0 0 0 0 0 0 0 0 0 0 0 0]\n",
            "Obtained output:\n",
            "[0 0 0 0 0 0 0 0 0 0 0 0 0 0 0 0 0 0 0 0 0 0 0 0 0 0 0 0 0 0 0 0 0 0 1 0 0\n",
            " 0 0 0 0 0 0 0 0 0 1 0 0 0 0 0 0 0 0 0 0 0 0 0]\n",
            "\n",
            "\n"
          ]
        }
      ]
    },
    {
      "cell_type": "code",
      "source": [],
      "metadata": {
        "colab": {
          "base_uri": "https://localhost:8080/"
        },
        "id": "kcIwAjuVERat",
        "outputId": "16ecbde9-994e-4715-9ff7-b45e20fea3fa"
      },
      "execution_count": null,
      "outputs": [
        {
          "output_type": "execute_result",
          "data": {
            "text/plain": [
              "array([[0, 0, 0, 0, 1, 0, 0, 0, 0, 0, 0, 0, 0, 0, 0, 0, 1, 0, 0, 0, 0, 0,\n",
              "        0, 0, 0, 0, 0, 0, 1, 0, 0, 0, 0, 0, 0, 0, 0, 0, 0, 0, 0, 0, 0, 0,\n",
              "        0, 0, 1, 0, 0, 0, 0, 0, 0, 1, 0, 0, 0, 0, 0, 0],\n",
              "       [1, 0, 0, 0, 0, 0, 0, 0, 0, 0, 0, 0, 0, 0, 0, 0, 0, 0, 0, 0, 0, 0,\n",
              "        0, 0, 0, 0, 1, 0, 0, 0, 0, 1, 0, 0, 1, 0, 0, 0, 0, 0, 0, 0, 0, 0,\n",
              "        0, 0, 0, 0, 0, 0, 0, 0, 0, 0, 0, 0, 0, 1, 0, 0]])"
            ]
          },
          "metadata": {},
          "execution_count": 34
        }
      ]
    },
    {
      "cell_type": "code",
      "execution_count": null,
      "metadata": {
        "colab": {
          "base_uri": "https://localhost:8080/"
        },
        "id": "mEfGCpxJ0jQ9",
        "outputId": "367e9f30-4bdc-4847-fc27-857af626ebc9"
      },
      "outputs": [
        {
          "output_type": "stream",
          "name": "stdout",
          "text": [
            "[[ 4  2  3  5  6  3  2  4]\n",
            " [ 1  1  1  1  7  1  1  1]\n",
            " [ 7  7  7  7  7  7  7  7]\n",
            " [ 7  7  7  7  1  7  7  7]\n",
            " [ 7  7  7  8  7  7  7  7]\n",
            " [ 7  7  7  7  7  7  7  7]\n",
            " [ 8  8  8  7  8  8  8  8]\n",
            " [11  9 10 12 13 10  9 11]\n",
            " [ 0  1  0  1  1 56  0  0]]\n",
            "[0, 1, 0, 0, 0, 0, 0, 0, 0, 0, 0, 0, 0, 0, 0, 0, 0, 0, 0, 0, 0, 0, 0, 0, 0, 0, 0, 0, 0, 0, 0, 0, 0, 0, 0, 0, 0, 0, 0, 0, 0, 0, 0, 0, 0, 0, 0, 0, 0, 0, 0, 0, 0, 0, 0, 0, 0, 1, 0, 0]\n"
          ]
        }
      ],
      "source": [
        "fen_string = 'rnbqkbnr/pppp1ppp/8/4p3/3P4/8/PPP1PPPP/RNBQKBNR w Kkq h2 0 1'\n",
        "themes_string = 'hangingPiece advancedPawn'\n",
        "\n",
        "processed_fen = process_fen(fen_string)\n",
        "print(processed_fen)\n",
        "\n",
        "processed_themes = process_themes(themes_string)\n",
        "print(processed_themes)"
      ]
    },
    {
      "cell_type": "code",
      "execution_count": null,
      "metadata": {
        "colab": {
          "base_uri": "https://localhost:8080/",
          "height": 407
        },
        "id": "ltOrjG3l_0_k",
        "outputId": "31c8bc7e-355e-4cb9-bec5-8d29f8cc8399"
      },
      "outputs": [
        {
          "output_type": "execute_result",
          "data": {
            "text/plain": [
              "                                                 FEN  \\\n",
              "0  r6k/pp2r2p/4Rp1Q/3p4/8/1N1P2R1/PqP2bPP/7K b - ...   \n",
              "1  5rk1/1p3ppp/pq3b2/8/8/1P1Q1N2/P4PPP/3R2K1 w - ...   \n",
              "2  r2qr1k1/b1p2ppp/pp4n1/P1P1p3/4P1n1/B2P2Pb/3NBP...   \n",
              "3             8/8/4k1p1/2KpP2p/5PP1/8/8/8 w - - 0 53   \n",
              "4  4r3/1k6/pp3r2/1b2P2p/3R1p2/P1R2P2/1P4PP/6K1 w ...   \n",
              "5  r4rk1/pp3ppp/2n1b3/q1pp2B1/8/P1Q2NP1/1PP1PP1P/...   \n",
              "6  r1bqk2r/pp1nbNp1/2p1p2p/8/2BP4/1PN3P1/P3QP1P/3...   \n",
              "7  5r1k/5rp1/p7/1b2B2p/1P1P1Pq1/2R1Q3/P3p1P1/2R3K...   \n",
              "8          3R4/8/K7/pB2b3/1p6/1P2k3/3p4/8 w - - 4 58   \n",
              "9  4r3/5pk1/1p3np1/3p3p/2qQ4/P4N1P/1P3RP1/7K w - ...   \n",
              "\n",
              "                                  Themes  \n",
              "0  crushing hangingPiece long middlegame  \n",
              "1                advantage endgame short  \n",
              "2             advantage middlegame short  \n",
              "3      crushing endgame long pawnEndgame  \n",
              "4             endgame mate mateIn2 short  \n",
              "5      advantage master middlegame short  \n",
              "6          mate mateIn2 middlegame short  \n",
              "7              crushing middlegame short  \n",
              "8            crushing endgame fork short  \n",
              "9    crushing endgame short trappedPiece  "
            ],
            "text/html": [
              "\n",
              "  <div id=\"df-c87ae4c5-ccf8-4cad-9679-8aa092fe10e0\">\n",
              "    <div class=\"colab-df-container\">\n",
              "      <div>\n",
              "<style scoped>\n",
              "    .dataframe tbody tr th:only-of-type {\n",
              "        vertical-align: middle;\n",
              "    }\n",
              "\n",
              "    .dataframe tbody tr th {\n",
              "        vertical-align: top;\n",
              "    }\n",
              "\n",
              "    .dataframe thead th {\n",
              "        text-align: right;\n",
              "    }\n",
              "</style>\n",
              "<table border=\"1\" class=\"dataframe\">\n",
              "  <thead>\n",
              "    <tr style=\"text-align: right;\">\n",
              "      <th></th>\n",
              "      <th>FEN</th>\n",
              "      <th>Themes</th>\n",
              "    </tr>\n",
              "  </thead>\n",
              "  <tbody>\n",
              "    <tr>\n",
              "      <th>0</th>\n",
              "      <td>r6k/pp2r2p/4Rp1Q/3p4/8/1N1P2R1/PqP2bPP/7K b - ...</td>\n",
              "      <td>crushing hangingPiece long middlegame</td>\n",
              "    </tr>\n",
              "    <tr>\n",
              "      <th>1</th>\n",
              "      <td>5rk1/1p3ppp/pq3b2/8/8/1P1Q1N2/P4PPP/3R2K1 w - ...</td>\n",
              "      <td>advantage endgame short</td>\n",
              "    </tr>\n",
              "    <tr>\n",
              "      <th>2</th>\n",
              "      <td>r2qr1k1/b1p2ppp/pp4n1/P1P1p3/4P1n1/B2P2Pb/3NBP...</td>\n",
              "      <td>advantage middlegame short</td>\n",
              "    </tr>\n",
              "    <tr>\n",
              "      <th>3</th>\n",
              "      <td>8/8/4k1p1/2KpP2p/5PP1/8/8/8 w - - 0 53</td>\n",
              "      <td>crushing endgame long pawnEndgame</td>\n",
              "    </tr>\n",
              "    <tr>\n",
              "      <th>4</th>\n",
              "      <td>4r3/1k6/pp3r2/1b2P2p/3R1p2/P1R2P2/1P4PP/6K1 w ...</td>\n",
              "      <td>endgame mate mateIn2 short</td>\n",
              "    </tr>\n",
              "    <tr>\n",
              "      <th>5</th>\n",
              "      <td>r4rk1/pp3ppp/2n1b3/q1pp2B1/8/P1Q2NP1/1PP1PP1P/...</td>\n",
              "      <td>advantage master middlegame short</td>\n",
              "    </tr>\n",
              "    <tr>\n",
              "      <th>6</th>\n",
              "      <td>r1bqk2r/pp1nbNp1/2p1p2p/8/2BP4/1PN3P1/P3QP1P/3...</td>\n",
              "      <td>mate mateIn2 middlegame short</td>\n",
              "    </tr>\n",
              "    <tr>\n",
              "      <th>7</th>\n",
              "      <td>5r1k/5rp1/p7/1b2B2p/1P1P1Pq1/2R1Q3/P3p1P1/2R3K...</td>\n",
              "      <td>crushing middlegame short</td>\n",
              "    </tr>\n",
              "    <tr>\n",
              "      <th>8</th>\n",
              "      <td>3R4/8/K7/pB2b3/1p6/1P2k3/3p4/8 w - - 4 58</td>\n",
              "      <td>crushing endgame fork short</td>\n",
              "    </tr>\n",
              "    <tr>\n",
              "      <th>9</th>\n",
              "      <td>4r3/5pk1/1p3np1/3p3p/2qQ4/P4N1P/1P3RP1/7K w - ...</td>\n",
              "      <td>crushing endgame short trappedPiece</td>\n",
              "    </tr>\n",
              "  </tbody>\n",
              "</table>\n",
              "</div>\n",
              "      <button class=\"colab-df-convert\" onclick=\"convertToInteractive('df-c87ae4c5-ccf8-4cad-9679-8aa092fe10e0')\"\n",
              "              title=\"Convert this dataframe to an interactive table.\"\n",
              "              style=\"display:none;\">\n",
              "        \n",
              "  <svg xmlns=\"http://www.w3.org/2000/svg\" height=\"24px\"viewBox=\"0 0 24 24\"\n",
              "       width=\"24px\">\n",
              "    <path d=\"M0 0h24v24H0V0z\" fill=\"none\"/>\n",
              "    <path d=\"M18.56 5.44l.94 2.06.94-2.06 2.06-.94-2.06-.94-.94-2.06-.94 2.06-2.06.94zm-11 1L8.5 8.5l.94-2.06 2.06-.94-2.06-.94L8.5 2.5l-.94 2.06-2.06.94zm10 10l.94 2.06.94-2.06 2.06-.94-2.06-.94-.94-2.06-.94 2.06-2.06.94z\"/><path d=\"M17.41 7.96l-1.37-1.37c-.4-.4-.92-.59-1.43-.59-.52 0-1.04.2-1.43.59L10.3 9.45l-7.72 7.72c-.78.78-.78 2.05 0 2.83L4 21.41c.39.39.9.59 1.41.59.51 0 1.02-.2 1.41-.59l7.78-7.78 2.81-2.81c.8-.78.8-2.07 0-2.86zM5.41 20L4 18.59l7.72-7.72 1.47 1.35L5.41 20z\"/>\n",
              "  </svg>\n",
              "      </button>\n",
              "      \n",
              "  <style>\n",
              "    .colab-df-container {\n",
              "      display:flex;\n",
              "      flex-wrap:wrap;\n",
              "      gap: 12px;\n",
              "    }\n",
              "\n",
              "    .colab-df-convert {\n",
              "      background-color: #E8F0FE;\n",
              "      border: none;\n",
              "      border-radius: 50%;\n",
              "      cursor: pointer;\n",
              "      display: none;\n",
              "      fill: #1967D2;\n",
              "      height: 32px;\n",
              "      padding: 0 0 0 0;\n",
              "      width: 32px;\n",
              "    }\n",
              "\n",
              "    .colab-df-convert:hover {\n",
              "      background-color: #E2EBFA;\n",
              "      box-shadow: 0px 1px 2px rgba(60, 64, 67, 0.3), 0px 1px 3px 1px rgba(60, 64, 67, 0.15);\n",
              "      fill: #174EA6;\n",
              "    }\n",
              "\n",
              "    [theme=dark] .colab-df-convert {\n",
              "      background-color: #3B4455;\n",
              "      fill: #D2E3FC;\n",
              "    }\n",
              "\n",
              "    [theme=dark] .colab-df-convert:hover {\n",
              "      background-color: #434B5C;\n",
              "      box-shadow: 0px 1px 3px 1px rgba(0, 0, 0, 0.15);\n",
              "      filter: drop-shadow(0px 1px 2px rgba(0, 0, 0, 0.3));\n",
              "      fill: #FFFFFF;\n",
              "    }\n",
              "  </style>\n",
              "\n",
              "      <script>\n",
              "        const buttonEl =\n",
              "          document.querySelector('#df-c87ae4c5-ccf8-4cad-9679-8aa092fe10e0 button.colab-df-convert');\n",
              "        buttonEl.style.display =\n",
              "          google.colab.kernel.accessAllowed ? 'block' : 'none';\n",
              "\n",
              "        async function convertToInteractive(key) {\n",
              "          const element = document.querySelector('#df-c87ae4c5-ccf8-4cad-9679-8aa092fe10e0');\n",
              "          const dataTable =\n",
              "            await google.colab.kernel.invokeFunction('convertToInteractive',\n",
              "                                                     [key], {});\n",
              "          if (!dataTable) return;\n",
              "\n",
              "          const docLinkHtml = 'Like what you see? Visit the ' +\n",
              "            '<a target=\"_blank\" href=https://colab.research.google.com/notebooks/data_table.ipynb>data table notebook</a>'\n",
              "            + ' to learn more about interactive tables.';\n",
              "          element.innerHTML = '';\n",
              "          dataTable['output_type'] = 'display_data';\n",
              "          await google.colab.output.renderOutput(dataTable, element);\n",
              "          const docLink = document.createElement('div');\n",
              "          docLink.innerHTML = docLinkHtml;\n",
              "          element.appendChild(docLink);\n",
              "        }\n",
              "      </script>\n",
              "    </div>\n",
              "  </div>\n",
              "  "
            ]
          },
          "metadata": {},
          "execution_count": 17
        }
      ],
      "source": [
        "df[:10]"
      ]
    },
    {
      "cell_type": "code",
      "execution_count": null,
      "metadata": {
        "id": "dXlVP3eEEvin"
      },
      "outputs": [],
      "source": [
        "import tensorflow as tf\n",
        "from tensorflow.keras.models import Sequential\n",
        "from tensorflow.keras.layers import Dense, Conv2D, Flatten, Dropout, MaxPooling2D\n",
        "\n",
        "# Define the input shape\n",
        "input_shape = (9, 8, 1) # Update if necessary\n",
        "\n",
        "from tensorflow.keras.optimizers import Adam\n",
        "\n",
        "# Define the model architecture\n",
        "model = Sequential()\n",
        "model.add(Conv2D(64, kernel_size=(3, 3), activation='relu', padding='same', input_shape=input_shape))\n",
        "model.add(Conv2D(64, kernel_size=(3, 3), activation='relu', padding='same'))\n",
        "model.add(MaxPooling2D(pool_size=(2, 2)))\n",
        "model.add(Conv2D(128, kernel_size=(3, 3), activation='relu', padding='same'))\n",
        "model.add(Conv2D(128, kernel_size=(3, 3), activation='relu', padding='same'))\n",
        "model.add(MaxPooling2D(pool_size=(2, 2)))\n",
        "model.add(Dropout(0.25))\n",
        "model.add(Flatten())\n",
        "model.add(Dense(256, activation='relu'))\n",
        "model.add(Dropout(0.5))\n",
        "model.add(Dense(len(all_themes), activation='sigmoid')) # Sigmoid function for multilabel classification\n",
        "\n",
        "# Adjust the learning rate\n",
        "optimizer = Adam(learning_rate=0.001)\n",
        "\n",
        "# Compile the model\n",
        "model.compile(optimizer=optimizer,\n",
        "              loss='binary_crossentropy', # Binary cross entropy for multilabel classification\n",
        "              metrics=['accuracy'])\n"
      ]
    },
    {
      "cell_type": "code",
      "execution_count": null,
      "metadata": {
        "colab": {
          "base_uri": "https://localhost:8080/",
          "height": 920
        },
        "id": "wIi3T-PmGLg1",
        "outputId": "58d611ed-e9f5-4d57-af89-af8a8295aab2"
      },
      "outputs": [
        {
          "output_type": "stream",
          "name": "stdout",
          "text": [
            "Epoch 1/3\n",
            "4/4 [==============================] - 5s 593ms/step - loss: 0.6050 - accuracy: 0.0550 - val_loss: 0.2983 - val_accuracy: 0.0050\n",
            "Epoch 2/3\n",
            "4/4 [==============================] - 3s 906ms/step - loss: 0.3626 - accuracy: 0.0870 - val_loss: 0.2078 - val_accuracy: 0.0000e+00\n",
            "Epoch 3/3\n",
            "4/4 [==============================] - 3s 508ms/step - loss: 0.2798 - accuracy: 0.0630 - val_loss: 0.1949 - val_accuracy: 0.0000e+00\n"
          ]
        },
        {
          "output_type": "display_data",
          "data": {
            "text/plain": [
              "<Figure size 1200x800 with 1 Axes>"
            ],
            "image/png": "[encoded data removed]"
          },
          "metadata": {}
        },
        {
          "output_type": "stream",
          "name": "stdout",
          "text": [
            "7/7 [==============================] - 0s 18ms/step\n",
            "Example 1:\n",
            "Expected output:\n",
            "[0 0 0 0 1 0 0 0 0 0 0 0 0 0 0 0 0 0 0 0 0 0 0 0 0 0 0 0 1 0 0 0 0 0 0 0 0\n",
            " 0 0 0 0 0 0 1 0 0 0 0 0 0 0 1 0 1 0 0 0 0 0 0]\n",
            "Obtained output:\n",
            "[0 0 0 0 0 0 0 0 0 0 0 0 0 0 0 0 0 0 0 0 0 0 0 0 0 0 0 0 0 0 0 0 0 0 1 0 0\n",
            " 0 0 0 0 0 0 0 0 0 1 0 0 0 0 0 0 0 0 0 0 0 0 0]\n",
            "\n",
            "\n",
            "Example 2:\n",
            "Expected output:\n",
            "[1 0 0 0 1 0 0 0 0 0 0 0 0 0 0 0 0 0 0 0 0 0 0 0 0 0 0 0 0 0 0 0 0 0 0 0 0\n",
            " 0 0 0 0 0 0 1 0 0 0 0 0 0 0 0 0 0 0 0 0 0 0 0]\n",
            "Obtained output:\n",
            "[0 0 0 0 0 0 0 0 0 0 0 0 0 0 0 0 0 0 0 0 0 0 0 0 0 0 0 0 0 0 0 0 0 0 1 0 0\n",
            " 0 0 0 0 0 0 0 0 0 1 0 0 0 0 0 0 0 0 0 0 0 0 0]\n",
            "\n",
            "\n"
          ]
        }
      ],
      "source": [
        "train_X, train_Y = generate_X_Y(df, n=2048)\n",
        "\n",
        "# Reshape the data to fit the model\n",
        "train_X = train_X.reshape(-1, 9, 8, 1)\n",
        "\n",
        "from sklearn.model_selection import train_test_split\n",
        "\n",
        "# Split the data into train and test sets\n",
        "X_temp, X_test, Y_temp, Y_test = train_test_split(train_X, train_Y, test_size=0.2, random_state=42)\n",
        "\n",
        "# Split the temporary set into train and validation sets\n",
        "X_train, X_val, Y_train, Y_val = train_test_split(X_temp, Y_temp, test_size=0.25, random_state=42) # 0.25 x 0.8 = 0.2\n",
        "\n",
        "\n",
        "import matplotlib.pyplot as plt\n",
        "\n",
        "# Larger batch size\n",
        "batch_size = 256\n",
        "\n",
        "# Train the model and record the training history\n",
        "history = model.fit(train_X, train_Y, validation_split=0.2, epochs=3, validation_data=(X_val, Y_val), batch_size=batch_size, verbose=1)\n",
        "\n",
        "# Plot the training and validation loss\n",
        "plt.figure(figsize=(12, 8))\n",
        "plt.plot(history.history['loss'], label='Train loss')\n",
        "plt.plot(history.history['val_loss'], label='Validation loss')\n",
        "plt.legend()\n",
        "plt.show()\n",
        "\n",
        "# Making predictions\n",
        "pred_Y = model.predict(X_val)\n",
        "\n",
        "# Converting probabilities to labels\n",
        "pred_Y_labels = (pred_Y > 0.5).astype(int)\n",
        "\n",
        "# Printing the first 2 examples\n",
        "for i in range(2):\n",
        "    print(f\"Example {i+1}:\")\n",
        "    print(\"Expected output:\")\n",
        "    print(Y_val[i])\n",
        "    print(\"Obtained output:\")\n",
        "    print(pred_Y_labels[i])\n",
        "    print(\"\\n\")\n",
        "\n",
        "# Train the model\n",
        "#history = model.fit(train_X, train_Y, epochs=1500)"
      ]
    },
    {
      "cell_type": "code",
      "source": [],
      "metadata": {
        "id": "cUuTqZMbHdri"
      },
      "execution_count": null,
      "outputs": []
    },
    {
      "cell_type": "code",
      "source": [
        "# Making predictions\n",
        "pred_Y = model.predict(test_X)\n",
        "\n",
        "# Converting probabilities to labels\n",
        "pred_Y_labels = (pred_Y > 0.5).astype(int)\n",
        "\n",
        "# Printing the first 2 examples\n",
        "for i in range(2):\n",
        "    print(f\"Example {i+1}:\")\n",
        "    print(\"Expected output:\")\n",
        "    print(test_Y[i])\n",
        "    print(\"Obtained output:\")\n",
        "    print(pred_Y_labels[i])\n",
        "    print(\"\\n\")"
      ],
      "metadata": {
        "colab": {
          "base_uri": "https://localhost:8080/",
          "height": 252
        },
        "id": "DQMGfUWwGXUv",
        "outputId": "8f1d6820-4199-430e-8259-5fc5e5f8cede"
      },
      "execution_count": null,
      "outputs": [
        {
          "output_type": "error",
          "ename": "NameError",
          "evalue": "ignored",
          "traceback": [
            "\u001b[0;31m---------------------------------------------------------------------------\u001b[0m",
            "\u001b[0;31mNameError\u001b[0m                                 Traceback (most recent call last)",
            "\u001b[0;32m<ipython-input-10-934190a4882b>\u001b[0m in \u001b[0;36m<cell line: 3>\u001b[0;34m()\u001b[0m\n\u001b[1;32m      1\u001b[0m \u001b[0;31m# Plot the training and validation loss\u001b[0m\u001b[0;34m\u001b[0m\u001b[0;34m\u001b[0m\u001b[0m\n\u001b[1;32m      2\u001b[0m \u001b[0mplt\u001b[0m\u001b[0;34m.\u001b[0m\u001b[0mfigure\u001b[0m\u001b[0;34m(\u001b[0m\u001b[0mfigsize\u001b[0m\u001b[0;34m=\u001b[0m\u001b[0;34m(\u001b[0m\u001b[0;36m12\u001b[0m\u001b[0;34m,\u001b[0m \u001b[0;36m8\u001b[0m\u001b[0;34m)\u001b[0m\u001b[0;34m)\u001b[0m\u001b[0;34m\u001b[0m\u001b[0;34m\u001b[0m\u001b[0m\n\u001b[0;32m----> 3\u001b[0;31m \u001b[0mplt\u001b[0m\u001b[0;34m.\u001b[0m\u001b[0mplot\u001b[0m\u001b[0;34m(\u001b[0m\u001b[0mhistory\u001b[0m\u001b[0;34m.\u001b[0m\u001b[0mhistory\u001b[0m\u001b[0;34m[\u001b[0m\u001b[0;34m'loss'\u001b[0m\u001b[0;34m]\u001b[0m\u001b[0;34m,\u001b[0m \u001b[0mlabel\u001b[0m\u001b[0;34m=\u001b[0m\u001b[0;34m'Train loss'\u001b[0m\u001b[0;34m)\u001b[0m\u001b[0;34m\u001b[0m\u001b[0;34m\u001b[0m\u001b[0m\n\u001b[0m\u001b[1;32m      4\u001b[0m \u001b[0mplt\u001b[0m\u001b[0;34m.\u001b[0m\u001b[0mplot\u001b[0m\u001b[0;34m(\u001b[0m\u001b[0mhistory\u001b[0m\u001b[0;34m.\u001b[0m\u001b[0mhistory\u001b[0m\u001b[0;34m[\u001b[0m\u001b[0;34m'val_loss'\u001b[0m\u001b[0;34m]\u001b[0m\u001b[0;34m,\u001b[0m \u001b[0mlabel\u001b[0m\u001b[0;34m=\u001b[0m\u001b[0;34m'Validation loss'\u001b[0m\u001b[0;34m)\u001b[0m\u001b[0;34m\u001b[0m\u001b[0;34m\u001b[0m\u001b[0m\n\u001b[1;32m      5\u001b[0m \u001b[0mplt\u001b[0m\u001b[0;34m.\u001b[0m\u001b[0mlegend\u001b[0m\u001b[0;34m(\u001b[0m\u001b[0;34m)\u001b[0m\u001b[0;34m\u001b[0m\u001b[0;34m\u001b[0m\u001b[0m\n",
            "\u001b[0;31mNameError\u001b[0m: name 'history' is not defined"
          ]
        },
        {
          "output_type": "display_data",
          "data": {
            "text/plain": [
              "<Figure size 1200x800 with 0 Axes>"
            ]
          },
          "metadata": {}
        }
      ]
    },
    {
      "cell_type": "code",
      "execution_count": null,
      "metadata": {
        "colab": {
          "base_uri": "https://localhost:8080/"
        },
        "id": "YWrJNhSvF0gD",
        "outputId": "d70677c8-8985-4dc3-dc09-be2302a842c2"
      },
      "outputs": [
        {
          "name": "stdout",
          "output_type": "stream",
          "text": [
            "Epoch 1/1500\n",
            "25/25 [==============================] - 0s 14ms/step - loss: 0.1639 - accuracy: 0.2700 - val_loss: 0.1566 - val_accuracy: 0.3100\n",
            "Epoch 2/1500\n",
            "25/25 [==============================] - 0s 6ms/step - loss: 0.1627 - accuracy: 0.2675 - val_loss: 0.1559 - val_accuracy: 0.2850\n",
            "Epoch 3/1500\n",
            "25/25 [==============================] - 0s 5ms/step - loss: 0.1616 - accuracy: 0.2925 - val_loss: 0.1543 - val_accuracy: 0.2650\n",
            "Epoch 4/1500\n",
            "25/25 [==============================] - 0s 6ms/step - loss: 0.1620 - accuracy: 0.2738 - val_loss: 0.1561 - val_accuracy: 0.2850\n",
            "Epoch 5/1500\n",
            "25/25 [==============================] - 0s 6ms/step - loss: 0.1597 - accuracy: 0.2750 - val_loss: 0.1549 - val_accuracy: 0.2600\n",
            "Epoch 6/1500\n",
            "25/25 [==============================] - 0s 6ms/step - loss: 0.1594 - accuracy: 0.2812 - val_loss: 0.1544 - val_accuracy: 0.2700\n",
            "Epoch 7/1500\n",
            "25/25 [==============================] - 0s 6ms/step - loss: 0.1597 - accuracy: 0.2800 - val_loss: 0.1553 - val_accuracy: 0.2850\n",
            "Epoch 8/1500\n",
            "25/25 [==============================] - 0s 5ms/step - loss: 0.1589 - accuracy: 0.2837 - val_loss: 0.1556 - val_accuracy: 0.2400\n",
            "Epoch 9/1500\n",
            "25/25 [==============================] - 0s 6ms/step - loss: 0.1589 - accuracy: 0.2725 - val_loss: 0.1559 - val_accuracy: 0.2900\n",
            "Epoch 10/1500\n",
            "25/25 [==============================] - 0s 6ms/step - loss: 0.1571 - accuracy: 0.2775 - val_loss: 0.1551 - val_accuracy: 0.2850\n",
            "Epoch 11/1500\n",
            "25/25 [==============================] - 0s 5ms/step - loss: 0.1564 - accuracy: 0.2850 - val_loss: 0.1543 - val_accuracy: 0.2650\n",
            "Epoch 12/1500\n",
            "25/25 [==============================] - 0s 6ms/step - loss: 0.1557 - accuracy: 0.2962 - val_loss: 0.1555 - val_accuracy: 0.2550\n",
            "Epoch 13/1500\n",
            "25/25 [==============================] - 0s 7ms/step - loss: 0.1540 - accuracy: 0.2962 - val_loss: 0.1548 - val_accuracy: 0.2550\n",
            "Epoch 14/1500\n",
            "25/25 [==============================] - 0s 7ms/step - loss: 0.1554 - accuracy: 0.3025 - val_loss: 0.1563 - val_accuracy: 0.2400\n",
            "Epoch 15/1500\n",
            "25/25 [==============================] - 0s 8ms/step - loss: 0.1559 - accuracy: 0.2862 - val_loss: 0.1555 - val_accuracy: 0.2850\n",
            "Epoch 16/1500\n",
            "25/25 [==============================] - 0s 10ms/step - loss: 0.1529 - accuracy: 0.2950 - val_loss: 0.1573 - val_accuracy: 0.3050\n",
            "Epoch 17/1500\n",
            "25/25 [==============================] - 0s 9ms/step - loss: 0.1532 - accuracy: 0.3137 - val_loss: 0.1578 - val_accuracy: 0.3050\n",
            "Epoch 18/1500\n",
            "25/25 [==============================] - 0s 9ms/step - loss: 0.1543 - accuracy: 0.3038 - val_loss: 0.1559 - val_accuracy: 0.2750\n",
            "Epoch 19/1500\n",
            "25/25 [==============================] - 0s 8ms/step - loss: 0.1514 - accuracy: 0.3063 - val_loss: 0.1568 - val_accuracy: 0.2700\n",
            "Epoch 20/1500\n",
            "25/25 [==============================] - 0s 8ms/step - loss: 0.1525 - accuracy: 0.3025 - val_loss: 0.1628 - val_accuracy: 0.3150\n",
            "Epoch 21/1500\n",
            "25/25 [==============================] - 0s 8ms/step - loss: 0.1521 - accuracy: 0.2837 - val_loss: 0.1559 - val_accuracy: 0.2800\n"
          ]
        }
      ],
      "source": [
        "\n",
        "\n",
        "\n",
        "from tensorflow.keras.callbacks import EarlyStopping\n",
        "\n",
        "early_stopping = EarlyStopping(monitor='val_loss', patience=10)\n",
        "\n",
        "history = model.fit(train_X, train_Y, epochs=1500, validation_split=0.2, callbacks=[early_stopping])\n",
        "\n",
        "\n"
      ]
    }
  ],
  "metadata": {
    "accelerator": "TPU",
    "colab": {
      "provenance": [],
      "gpuType": "T4"
    },
    "kernelspec": {
      "display_name": "Python 3",
      "name": "python3"
    },
    "language_info": {
      "name": "python"
    }
  },
  "nbformat": 4,
  "nbformat_minor": 0
}